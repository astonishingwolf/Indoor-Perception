{
 "cells": [
  {
   "cell_type": "markdown",
   "metadata": {},
   "source": [
    "Importing all the libraries "
   ]
  },
  {
   "cell_type": "code",
   "execution_count": 28,
   "metadata": {},
   "outputs": [],
   "source": [
    "import open3d as o3d\n",
    "import numpy as np\n",
    "import importlib\n",
    "#import matplotlib.pyplot as plt\n",
    "#import h5py\n",
    "import functions.pc_matching\n",
    "import functions.mat_to_py\n",
    "import functions.viz\n",
    "import functions.pc_registration\n",
    "importlib.reload(functions.pc_matching)\n",
    "importlib.reload(functions.mat_to_py)\n",
    "importlib.reload(functions.viz)\n",
    "importlib.reload(functions.pc_registration)\n",
    "from functions.pc_matching import PCMatch\n",
    "from functions.mat_to_py import PCNIData\n",
    "from functions.viz import pc_viz, video_cv, pc2video\n",
    "from functions.pc_registration import PointReg"
   ]
  },
  {
   "cell_type": "markdown",
   "metadata": {},
   "source": [
    "Initialising all the DataPoints"
   ]
  },
  {
   "cell_type": "code",
   "execution_count": 29,
   "metadata": {},
   "outputs": [],
   "source": [
    "match_points = PCMatch()\n",
    "data_points1 = PCNIData('C:\\\\Users\\\\dasgu\\\\Documents\\\\GitHubPercep\\\\sensordata\\\\Jul22data',eg=6)\n",
    "data_points2 = PCNIData('C:\\\\Users\\\\dasgu\\\\Documents\\\\GitHubPercep\\\\sensordata\\\\Jul22data',eg=7)\n",
    "data_points3 = PCNIData('C:\\\\Users\\\\dasgu\\\\Documents\\\\GitHubPercep\\\\sensordata\\\\Jul22data',eg=8)\n",
    "data_points4 = PCNIData('C:\\\\Users\\\\dasgu\\\\Documents\\\\GitHubPercep\\\\sensordata\\\\Jul22data',eg=9)\n",
    "datapoints = PCNIData('C:\\\\Users\\\\dasgu\\\\Documents\\\\GitHubPercep\\\\sensordata\\\\Jul22data',eg=3)"
   ]
  },
  {
   "cell_type": "code",
   "execution_count": 30,
   "metadata": {},
   "outputs": [
    {
     "name": "stdout",
     "output_type": "stream",
     "text": [
      "loading  C:\\Users\\dasgu\\Documents\\GitHubPercep\\sensordata\\Jul22data\\pcdata\\2022-06-16-13-01-40_6_pc.mat\n",
      "loading  C:\\Users\\dasgu\\Documents\\GitHubPercep\\sensordata\\Jul22data\\pcdata\\2022-06-16-13-01-40_7_pc.mat\n",
      "loading  C:\\Users\\dasgu\\Documents\\GitHubPercep\\sensordata\\Jul22data\\pcdata\\2022-06-16-13-01-40_8_pc.mat\n",
      "loading  C:\\Users\\dasgu\\Documents\\GitHubPercep\\sensordata\\Jul22data\\pcdata\\2022-06-16-13-01-40_9_pc.mat\n",
      "loading  C:\\Users\\dasgu\\Documents\\GitHubPercep\\sensordata\\Jul22data\\pcdata\\2022-06-16-13-01-40_3_pc.mat\n"
     ]
    }
   ],
   "source": [
    "data_list1 = data_points1('pc')\n",
    "data_list2 = data_points2('pc')\n",
    "data_list3 = data_points3('pc')\n",
    "data_list4 = data_points4('pc')\n",
    "data_lists = datapoints('pc')"
   ]
  },
  {
   "cell_type": "code",
   "execution_count": 8,
   "metadata": {},
   "outputs": [
    {
     "name": "stdout",
     "output_type": "stream",
     "text": [
      "loading  C:\\Users\\dasgu\\Documents\\GitHubPercep\\sensordata\\Jul22data\\pcdata\\2022-06-16-13-01-40_1_pc.mat\n"
     ]
    }
   ],
   "source": [
    "static_point = PCNIData('C:\\\\Users\\\\dasgu\\\\Documents\\\\GitHubPercep\\\\sensordata\\\\Jul22data',eg=1)\n",
    "static_pc = static_point('pc')\n",
    "pc_viz(static_pc[150])\n",
    "np.save('ref/reference_pc_new.npy',static_pc[120])"
   ]
  },
  {
   "cell_type": "markdown",
   "metadata": {},
   "source": [
    "Clustering and Tracking of Differenet Objects"
   ]
  },
  {
   "cell_type": "code",
   "execution_count": 82,
   "metadata": {},
   "outputs": [
    {
     "name": "stdout",
     "output_type": "stream",
     "text": [
      "[Open3D DEBUG] Precompute neighbors.\n",
      "[Open3D DEBUG] Done Precompute neighbors.\n",
      "[Open3D DEBUG] Compute Clusters\n",
      "[Open3D DEBUG] Done Compute Clusters: 4\n",
      "point cloud has 4 clusters\n",
      "[Open3D DEBUG] Precompute neighbors.\n",
      "[Open3D DEBUG] Done Precompute neighbors.\n",
      "[Open3D DEBUG] Compute Clusters\n",
      "[Open3D DEBUG] Done Compute Clusters: 4\n",
      "point cloud has 4 clusters\n",
      "[Open3D DEBUG] Precompute neighbors.\n",
      "[Open3D DEBUG] Done Precompute neighbors.\n",
      "[Open3D DEBUG] Compute Clusters\n",
      "[Open3D DEBUG] Done Compute Clusters: 4\n",
      "point cloud has 4 clusters\n",
      "the length of the cluster and the objects are \n",
      "1\n",
      "1\n",
      "throw\n",
      "1\n",
      "1\n",
      "2\n",
      "2\n",
      "catch\n",
      "throw\n",
      "1\n",
      "1\n",
      "2\n",
      "2\n",
      "catch\n",
      "throw\n",
      "1\n",
      "1\n",
      "2\n",
      "2\n",
      "catch\n",
      "throw\n",
      "1\n",
      "1\n",
      "2\n",
      "2\n",
      "catch\n",
      "the length of the cluster and the objects are \n",
      "2\n",
      "2\n",
      "throw\n",
      "2\n",
      "2\n",
      "3\n",
      "3\n",
      "catch\n",
      "throw\n",
      "2\n",
      "2\n",
      "3\n",
      "3\n",
      "catch\n",
      "throw\n",
      "2\n",
      "2\n",
      "3\n",
      "3\n",
      "catch\n",
      "throw\n",
      "2\n",
      "2\n",
      "3\n",
      "3\n",
      "catch\n",
      "the length of the cluster and the objects are \n",
      "3\n",
      "3\n"
     ]
    }
   ],
   "source": [
    "import functions.ClusterFinders\n",
    "importlib.reload(functions.ClusterFinders)\n",
    "from functions.ClusterFinders import ClusterFinder\n",
    "# static_pc = np.load('reference_pc_new.npy')\n",
    "static_pc = np.load('ref/reference_pc_new.npy')\n",
    "Find = ClusterFinder()\n",
    "object,cluster = Find(static_pc,data_list3,24,30,2)"
   ]
  },
  {
   "cell_type": "markdown",
   "metadata": {},
   "source": [
    "Registration of Objects"
   ]
  },
  {
   "cell_type": "code",
   "execution_count": 83,
   "metadata": {},
   "outputs": [
    {
     "name": "stdout",
     "output_type": "stream",
     "text": [
      "Initial number of points in cluster:  166\n",
      "wow\n",
      "saved transformation\n",
      "[[ 1.          0.          0.          0.03841829]\n",
      " [ 0.          1.          0.         -0.00330293]\n",
      " [ 0.          0.          1.         -0.01581407]\n",
      " [ 0.          0.          0.          1.        ]]\n",
      "Apply Generalised ICP\n",
      "RegistrationResult with fitness=9.945946e-01, inlier_rmse=2.698405e-02, and correspondence_set size of 184\n",
      "Access transformation to get result.\n",
      "Transformation after ICP is:\n",
      "[[ 0.99969064  0.00345285  0.02463147 -0.02140752]\n",
      " [-0.00536038  0.99695439  0.07780241 -0.12401226]\n",
      " [-0.02428781 -0.07791038  0.99666447 -0.00869558]\n",
      " [ 0.          0.          0.          1.        ]]\n",
      "184  points added\n",
      "wow\n",
      "saved transformation\n",
      "[[ 0.99969064  0.00345285  0.02463147 -0.02140752]\n",
      " [-0.00536038  0.99695439  0.07780241 -0.12401226]\n",
      " [-0.02428781 -0.07791038  0.99666447 -0.00869558]\n",
      " [ 0.          0.          0.          1.        ]]\n",
      "Apply Generalised ICP\n",
      "RegistrationResult with fitness=9.898477e-01, inlier_rmse=2.406392e-02, and correspondence_set size of 195\n",
      "Access transformation to get result.\n",
      "Transformation after ICP is:\n",
      "[[ 0.99917704 -0.01476     0.0377808  -0.04566001]\n",
      " [ 0.01094265  0.99499512  0.09932252 -0.22032068]\n",
      " [-0.03905772 -0.09882736  0.99433779  0.0225136 ]\n",
      " [ 0.          0.          0.          1.        ]]\n",
      "195  points added\n",
      "Total points in aggregated point cloud  545\n"
     ]
    }
   ],
   "source": [
    "import functions.pc_registration\n",
    "importlib.reload(functions.pc_registration)\n",
    "from functions.pc_registration import PointReg\n",
    "reg_points = Find.registration(cluster,0)"
   ]
  },
  {
   "cell_type": "code",
   "execution_count": 85,
   "metadata": {},
   "outputs": [
    {
     "name": "stdout",
     "output_type": "stream",
     "text": [
      "Initial number of points in cluster:  151\n",
      "wow\n",
      "saved transformation\n",
      "[[ 1.          0.          0.          0.02812123]\n",
      " [ 0.          1.          0.         -0.00413027]\n",
      " [ 0.          0.          1.         -0.01114273]\n",
      " [ 0.          0.          0.          1.        ]]\n",
      "Apply Generalised ICP\n",
      "RegistrationResult with fitness=9.554140e-01, inlier_rmse=2.681317e-02, and correspondence_set size of 150\n",
      "Access transformation to get result.\n",
      "Transformation after ICP is:\n",
      "[[ 0.99831589  0.03769707 -0.04409444  0.10123104]\n",
      " [-0.04139013  0.99542797 -0.08608141  0.25785854]\n",
      " [ 0.04064782  0.08776151  0.99531185 -0.12977311]\n",
      " [ 0.          0.          0.          1.        ]]\n",
      "150  points added\n",
      "wow\n",
      "saved transformation\n",
      "[[ 0.99831589  0.03769707 -0.04409444  0.10123104]\n",
      " [-0.04139013  0.99542797 -0.08608141  0.25785854]\n",
      " [ 0.04064782  0.08776151  0.99531185 -0.12977311]\n",
      " [ 0.          0.          0.          1.        ]]\n",
      "Apply Generalised ICP\n",
      "RegistrationResult with fitness=8.518519e-01, inlier_rmse=2.742028e-02, and correspondence_set size of 138\n",
      "Access transformation to get result.\n",
      "Transformation after ICP is:\n",
      "[[ 0.99493419 -0.04062017 -0.09195628  0.2416546 ]\n",
      " [ 0.02664271  0.98856577 -0.14841796  0.22134977]\n",
      " [ 0.0969336   0.14521614  0.98464011 -0.25803803]\n",
      " [ 0.          0.          0.          1.        ]]\n",
      "138  points added\n",
      "Total points in aggregated point cloud  439\n"
     ]
    },
    {
     "data": {
      "text/plain": [
       "array([[2.73980546, 0.27495185, 1.88993025],\n",
       "       [2.73882914, 0.28451386, 1.88993025],\n",
       "       [2.73504519, 0.23595268, 1.88444734],\n",
       "       ...,\n",
       "       [2.64676136, 0.1369819 , 2.19473061],\n",
       "       [2.63628465, 0.26806766, 2.21988592],\n",
       "       [2.63333267, 0.28611   , 2.22232981]])"
      ]
     },
     "execution_count": 85,
     "metadata": {},
     "output_type": "execute_result"
    }
   ],
   "source": [
    "Find.registration(cluster,1)"
   ]
  },
  {
   "cell_type": "code",
   "execution_count": 51,
   "metadata": {},
   "outputs": [],
   "source": [
    "def display_inlier_outlier(cloud, ind):\n",
    "    inlier_cloud = cloud.select_by_index(ind)\n",
    "    outlier_cloud = cloud.select_by_index(ind, invert=True)\n",
    "\n",
    "    print(\"Showing outliers (red) and inliers (gray): \")\n",
    "    outlier_cloud.paint_uniform_color([0, 1, 0])\n",
    "    inlier_cloud.paint_uniform_color([0.8, 0.8, 0.8])\n",
    "    o3d.visualization.draw_geometries([inlier_cloud, outlier_cloud],\n",
    "                                      zoom=0.3412,\n",
    "                                      front=[0.4257, -0.2125, -0.8795],\n",
    "                                      lookat=[2.6172, 2.0475, 1.532],\n",
    "                                      up=[-0.0694, -0.9768, 0.2024])"
   ]
  },
  {
   "cell_type": "code",
   "execution_count": 47,
   "metadata": {},
   "outputs": [
    {
     "data": {
      "text/plain": [
       "1804"
      ]
     },
     "execution_count": 47,
     "metadata": {},
     "output_type": "execute_result"
    }
   ],
   "source": [
    "len(reg_points)"
   ]
  },
  {
   "cell_type": "code",
   "execution_count": null,
   "metadata": {},
   "outputs": [],
   "source": []
  }
 ],
 "metadata": {
  "kernelspec": {
   "display_name": "Python 3.8.12 ('percep')",
   "language": "python",
   "name": "python3"
  },
  "language_info": {
   "codemirror_mode": {
    "name": "ipython",
    "version": 3
   },
   "file_extension": ".py",
   "mimetype": "text/x-python",
   "name": "python",
   "nbconvert_exporter": "python",
   "pygments_lexer": "ipython3",
   "version": "3.8.12"
  },
  "orig_nbformat": 4,
  "vscode": {
   "interpreter": {
    "hash": "f52ef770f83c874c23b0fea02cb1cfd9f7179f7089ec1916e46ea761666e8eb7"
   }
  }
 },
 "nbformat": 4,
 "nbformat_minor": 2
}
