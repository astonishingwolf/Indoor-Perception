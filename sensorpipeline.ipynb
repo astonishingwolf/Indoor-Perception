{
 "cells": [
  {
   "cell_type": "code",
   "execution_count": 16,
   "metadata": {},
   "outputs": [],
   "source": [
    "import open3d as o3d\n",
    "import numpy as np\n",
    "import importlib\n",
    "import matplotlib.pyplot as plt\n",
    "import h5py\n",
    "import functions.pc_matching\n",
    "import functions.mat_to_py\n",
    "import functions.viz\n",
    "import functions.pc_registration\n",
    "import functions.sensor_fusion\n",
    "importlib.reload(functions.sensor_fusion)\n",
    "importlib.reload(functions.pc_matching)\n",
    "importlib.reload(functions.mat_to_py)\n",
    "importlib.reload(functions.viz)\n",
    "importlib.reload(functions.pc_registration)\n",
    "from functions.pc_matching import PCMatch\n",
    "from functions.mat_to_py import PCNIData\n",
    "from functions.viz import pc_viz, video_cv, pc2video\n",
    "from functions.pc_registration import PointReg\n",
    "import cv2 as cv\n",
    "import argparse\n",
    "import numpy as np\n",
    "import sklearn as skl\n",
    "from sklearn.cluster import KMeans\n",
    "import functions.imageprediction\n",
    "importlib.reload(functions.imageprediction)\n",
    "from functions.imageprediction import imagepred"
   ]
  },
  {
   "cell_type": "code",
   "execution_count": 10,
   "metadata": {},
   "outputs": [],
   "source": [
    "match_points = PCMatch()\n",
    "datapoints = PCNIData('C:\\\\Users\\\\dasgu\\\\Documents\\\\GithubPercep\\\\sensordata\\\\JanuaryRecording',eg=0)\n",
    "images = datapoints('image')\n",
    "lidar = datapoints('pc')"
   ]
  },
  {
   "cell_type": "code",
   "execution_count": 23,
   "metadata": {},
   "outputs": [
    {
     "name": "stdout",
     "output_type": "stream",
     "text": [
      "[242.0, 152.5, 138, 99]\n",
      "[[242.0, 152.5, 138, 99]]\n",
      "[[242.0, 152.5, 138, 99]]\n"
     ]
    }
   ],
   "source": [
    "img_pred = imagepred() \n",
    "box = img_pred(images,800,803,3)"
   ]
  },
  {
   "cell_type": "code",
   "execution_count": 3,
   "metadata": {},
   "outputs": [
    {
     "name": "stdout",
     "output_type": "stream",
     "text": [
      "[Open3D DEBUG] Precompute neighbors.\n",
      "[Open3D DEBUG] Done Precompute neighbors.\n",
      "[Open3D DEBUG] Compute Clusters\n",
      "[Open3D DEBUG] Done Compute Clusters: 1\n",
      "point cloud has 1 clusters\n"
     ]
    }
   ],
   "source": [
    "static_pc = np.load('reference_pc_sensorfusion.npy')\n",
    "cluster = match_points(static_pc,lidar[500])\n",
    "# cluster1 = match_points(static_pc,cluster[0])"
   ]
  },
  {
   "cell_type": "code",
   "execution_count": 22,
   "metadata": {},
   "outputs": [
    {
     "name": "stdout",
     "output_type": "stream",
     "text": [
      "[234.5, 90.0, 131, 116]\n",
      "[[234.5, 90.0, 131, 116]]\n",
      "[[234.5, 90.0, 131, 116]]\n",
      "[[[234.5, 90.0, 131, 116]]]\n"
     ]
    }
   ],
   "source": [
    "import functions.imageprediction\n",
    "importlib.reload(functions.imageprediction)\n",
    "from functions.imageprediction import imagepred\n",
    "img_pred = imagepred() \n",
    "bbox = img_pred(images,1000,1003,3)\n",
    "print(bbox)"
   ]
  },
  {
   "cell_type": "code",
   "execution_count": 16,
   "metadata": {},
   "outputs": [],
   "source": [
    "cluster_homo = []\n",
    "for i in cluster[0]:\n",
    "    cluster_homo.append(np.append(i,1))\n",
    "cam_lid_trans = np.load('transformation\\\\CC_proj_L(1).npy')\n",
    "cluster_trans =  np.dot(cam_lid_trans,np.transpose(cluster_homo))\n",
    "cluster_trans =  np.transpose(cluster_trans)\n",
    "for i in cluster_trans:\n",
    "    i[0] = i[0]/i[2]\n",
    "    i[1] = i[1]/i[2]\n",
    "    i[0] = i[0]/3\n",
    "    i[1] = i[1]/3"
   ]
  },
  {
   "cell_type": "code",
   "execution_count": 18,
   "metadata": {},
   "outputs": [
    {
     "data": {
      "text/plain": [
       "-1"
      ]
     },
     "execution_count": 18,
     "metadata": {},
     "output_type": "execute_result"
    }
   ],
   "source": [
    "img = images[1000]\n",
    "import math as m\n",
    "for i in cluster_trans:\n",
    "    x = m.trunc(i[1])\n",
    "    y = m.trunc(i[0])\n",
    "    img[x][y] = [120,5,5]\n",
    "    img[x-1][y+1] = [120,5,5]\n",
    "    img[x-1][y-1] = [120,5,5]\n",
    "    img[x+1][y+1] = [120,5,5]\n",
    "    img[x+1][y-1] = [120,5,5]\n",
    "    \n",
    "cv.imshow('PC',images[1000])\n",
    "cv.waitKey(-1)"
   ]
  },
  {
   "cell_type": "code",
   "execution_count": null,
   "metadata": {},
   "outputs": [],
   "source": [
    "def solve(bl, tr, p) :\n",
    "   if (p[0] > bl[0] and p[0] < tr[0] and p[1] > bl[1] and p[1] < tr[1]) :\n",
    "      return True\n",
    "   else :\n",
    "        return False"
   ]
  },
  {
   "cell_type": "code",
   "execution_count": 5,
   "metadata": {},
   "outputs": [
    {
     "ename": "NameError",
     "evalue": "name 'm' is not defined",
     "output_type": "error",
     "traceback": [
      "\u001b[1;31m---------------------------------------------------------------------------\u001b[0m",
      "\u001b[1;31mNameError\u001b[0m                                 Traceback (most recent call last)",
      "\u001b[1;32mc:\\Users\\dasgu\\Documents\\GithubPercep\\IndoorPerception\\sensorpipeline.ipynb Cell 9\u001b[0m in \u001b[0;36m<cell line: 18>\u001b[1;34m()\u001b[0m\n\u001b[0;32m     <a href='vscode-notebook-cell:/c%3A/Users/dasgu/Documents/GithubPercep/IndoorPerception/sensorpipeline.ipynb#X11sZmlsZQ%3D%3D?line=15'>16</a>\u001b[0m i[\u001b[39m0\u001b[39m] \u001b[39m=\u001b[39m i[\u001b[39m0\u001b[39m]\u001b[39m/\u001b[39m\u001b[39m3\u001b[39m\n\u001b[0;32m     <a href='vscode-notebook-cell:/c%3A/Users/dasgu/Documents/GithubPercep/IndoorPerception/sensorpipeline.ipynb#X11sZmlsZQ%3D%3D?line=16'>17</a>\u001b[0m i[\u001b[39m1\u001b[39m] \u001b[39m=\u001b[39m i[\u001b[39m1\u001b[39m]\u001b[39m/\u001b[39m\u001b[39m3\u001b[39m\n\u001b[1;32m---> <a href='vscode-notebook-cell:/c%3A/Users/dasgu/Documents/GithubPercep/IndoorPerception/sensorpipeline.ipynb#X11sZmlsZQ%3D%3D?line=17'>18</a>\u001b[0m x1 \u001b[39m=\u001b[39m m\u001b[39m.\u001b[39mtrunc(i[\u001b[39m1\u001b[39m])\n\u001b[0;32m     <a href='vscode-notebook-cell:/c%3A/Users/dasgu/Documents/GithubPercep/IndoorPerception/sensorpipeline.ipynb#X11sZmlsZQ%3D%3D?line=18'>19</a>\u001b[0m y1 \u001b[39m=\u001b[39m m\u001b[39m.\u001b[39mtrunc(i[\u001b[39m0\u001b[39m])\n\u001b[0;32m     <a href='vscode-notebook-cell:/c%3A/Users/dasgu/Documents/GithubPercep/IndoorPerception/sensorpipeline.ipynb#X11sZmlsZQ%3D%3D?line=19'>20</a>\u001b[0m \u001b[39mprint\u001b[39m((x1,y1))\n",
      "\u001b[1;31mNameError\u001b[0m: name 'm' is not defined"
     ]
    }
   ],
   "source": [
    "x = 234.5\n",
    "y = 90.0\n",
    "w = 131\n",
    "h = 116\n",
    "import functions.tracking\n",
    "from functions.tracking import Track\n",
    "CCenter = Track()\n",
    "Center = CCenter.centroid(cluster[0])\n",
    "cam_lid_trans = np.load('transformation\\\\CC_proj_L(1).npy')\n",
    "Center = np.append(Center,1)\n",
    "cluster_trans =  np.dot(cam_lid_trans,np.transpose(Center))\n",
    "cluster_trans =  np.transpose(cluster_trans)\n",
    "i = cluster_trans\n",
    "i[0] = i[0]/i[2]\n",
    "i[1] = i[1]/i[2]\n",
    "i[0] = i[0]/3\n",
    "i[1] = i[1]/3\n",
    "x1 = m.trunc(i[1])\n",
    "y1 = m.trunc(i[0])\n",
    "print((x1,y1))\n",
    "# print('working')\n",
    "print((x,y))\n",
    "if solve((x,y),(x+w,y+h),(y1,x1)):\n",
    "    print('This is our required Cluster with center')\n",
    "\n"
   ]
  },
  {
   "cell_type": "code",
   "execution_count": 6,
   "metadata": {},
   "outputs": [
    {
     "name": "stdout",
     "output_type": "stream",
     "text": [
      "[Open3D DEBUG] Precompute neighbors.\n",
      "[Open3D DEBUG] Done Precompute neighbors.\n",
      "[Open3D DEBUG] Compute Clusters\n",
      "[Open3D DEBUG] Done Compute Clusters: 3\n",
      "point cloud has 3 clusters\n"
     ]
    }
   ],
   "source": [
    "cv.imshow('PC',images[800])\n",
    "cv.waitKey(-1)\n",
    "static_pc = np.load('reference_pc_sensorfusion.npy')\n",
    "cluster = match_points(static_pc,lidar[400])"
   ]
  },
  {
   "cell_type": "code",
   "execution_count": 7,
   "metadata": {},
   "outputs": [],
   "source": [
    "cluster_homo = []\n",
    "for i in cluster[1]:\n",
    "    cluster_homo.append(np.append(i,1))\n",
    "cam_lid_trans = np.load('transformation\\\\CC_proj_L(1).npy')\n",
    "cluster_trans =  np.dot(cam_lid_trans,np.transpose(cluster_homo))\n",
    "cluster_trans =  np.transpose(cluster_trans)\n",
    "for i in cluster_trans:\n",
    "    i[0] = i[0]/i[2]\n",
    "    i[1] = i[1]/i[2]\n",
    "    i[0] = i[0]/3\n",
    "    i[1] = i[1]/3\n"
   ]
  },
  {
   "cell_type": "code",
   "execution_count": 9,
   "metadata": {},
   "outputs": [
    {
     "data": {
      "text/plain": [
       "-1"
      ]
     },
     "execution_count": 9,
     "metadata": {},
     "output_type": "execute_result"
    }
   ],
   "source": [
    "img = images[800]\n",
    "#\n",
    "import math as m\n",
    "for i in cluster_trans:\n",
    "    x = m.trunc(i[1])\n",
    "    y = m.trunc(i[0])\n",
    "    img[x][y] = [120,5,5]\n",
    "    img[x-1][y+1] = [120,5,5]\n",
    "    img[x-1][y-1] = [120,5,5]\n",
    "    img[x+1][y+1] = [120,5,5]\n",
    "    img[x+1][y-1] = [120,5,5]\n",
    "    \n",
    "cv.imshow('PC',img)\n",
    "cv.waitKey(-1)\n"
   ]
  },
  {
   "cell_type": "code",
   "execution_count": 24,
   "metadata": {},
   "outputs": [
    {
     "ename": "NameError",
     "evalue": "name 'cluster' is not defined",
     "output_type": "error",
     "traceback": [
      "\u001b[1;31m---------------------------------------------------------------------------\u001b[0m",
      "\u001b[1;31mNameError\u001b[0m                                 Traceback (most recent call last)",
      "\u001b[1;32mc:\\Users\\dasgu\\Documents\\GithubPercep\\IndoorPerception\\sensorpipeline.ipynb Cell 13\u001b[0m in \u001b[0;36m<cell line: 5>\u001b[1;34m()\u001b[0m\n\u001b[0;32m      <a href='vscode-notebook-cell:/c%3A/Users/dasgu/Documents/GithubPercep/IndoorPerception/sensorpipeline.ipynb#X20sZmlsZQ%3D%3D?line=2'>3</a>\u001b[0m \u001b[39mimport\u001b[39;00m \u001b[39mmath\u001b[39;00m \u001b[39mas\u001b[39;00m \u001b[39mm\u001b[39;00m\n\u001b[0;32m      <a href='vscode-notebook-cell:/c%3A/Users/dasgu/Documents/GithubPercep/IndoorPerception/sensorpipeline.ipynb#X20sZmlsZQ%3D%3D?line=3'>4</a>\u001b[0m cam_lid_trans \u001b[39m=\u001b[39m np\u001b[39m.\u001b[39mload(\u001b[39m'\u001b[39m\u001b[39mtransformation\u001b[39m\u001b[39m\\\\\u001b[39;00m\u001b[39mCC_proj_L(1).npy\u001b[39m\u001b[39m'\u001b[39m)\n\u001b[1;32m----> <a href='vscode-notebook-cell:/c%3A/Users/dasgu/Documents/GithubPercep/IndoorPerception/sensorpipeline.ipynb#X20sZmlsZQ%3D%3D?line=4'>5</a>\u001b[0m \u001b[39mfor\u001b[39;00m i \u001b[39min\u001b[39;00m cluster[\u001b[39m1\u001b[39m]:\n\u001b[0;32m      <a href='vscode-notebook-cell:/c%3A/Users/dasgu/Documents/GithubPercep/IndoorPerception/sensorpipeline.ipynb#X20sZmlsZQ%3D%3D?line=5'>6</a>\u001b[0m     i \u001b[39m=\u001b[39m np\u001b[39m.\u001b[39mappend(i,\u001b[39m1\u001b[39m)\n\u001b[0;32m      <a href='vscode-notebook-cell:/c%3A/Users/dasgu/Documents/GithubPercep/IndoorPerception/sensorpipeline.ipynb#X20sZmlsZQ%3D%3D?line=6'>7</a>\u001b[0m     cluster_trans \u001b[39m=\u001b[39m  np\u001b[39m.\u001b[39mdot(cam_lid_trans,np\u001b[39m.\u001b[39mtranspose(i))\n",
      "\u001b[1;31mNameError\u001b[0m: name 'cluster' is not defined"
     ]
    }
   ],
   "source": [
    "img = images[800]\n",
    "img = cv.imread('ref\\\\object-detection.jpg')\n",
    "import math as m\n",
    "cam_lid_trans = np.load('transformation\\\\CC_proj_L(1).npy')\n",
    "for i in cluster[1]:\n",
    "    i = np.append(i,1)\n",
    "    cluster_trans =  np.dot(cam_lid_trans,np.transpose(i))\n",
    "    cluster_trans =  np.transpose(cluster_trans)\n",
    "    i = cluster_trans\n",
    "    i[0] = i[0]/i[2]\n",
    "    i[1] = i[1]/i[2]\n",
    "    i[0] = i[0]/3\n",
    "    i[1] = i[1]/3\n",
    "    x1 = m.trunc(i[1])\n",
    "    y1 = m.trunc(i[0])\n",
    "    # print('working')\n",
    "    print((x,y,x+w,y+h,x1,y1))\n",
    "    if solve((x,y),(x+w,y+h),(y1,x1)):\n",
    "        print('working')\n",
    "        img[x1][y1] = [120,5,5]\n",
    "        img[x1-1][y1+1] = [120,5,5]\n",
    "        img[x1-1][y1-1] = [120,5,5]\n",
    "        img[x1+1][y1+1] = [120,5,5]\n",
    "        img[x1+1][y1-1] = [120,5,5]\n",
    "cv.imshow('PC',img)\n",
    "cv.waitKey(-1)\n",
    "    "
   ]
  },
  {
   "cell_type": "code",
   "execution_count": null,
   "metadata": {},
   "outputs": [],
   "source": []
  }
 ],
 "metadata": {
  "kernelspec": {
   "display_name": "percep",
   "language": "python",
   "name": "python3"
  },
  "language_info": {
   "codemirror_mode": {
    "name": "ipython",
    "version": 3
   },
   "file_extension": ".py",
   "mimetype": "text/x-python",
   "name": "python",
   "nbconvert_exporter": "python",
   "pygments_lexer": "ipython3",
   "version": "3.8.12"
  },
  "orig_nbformat": 4,
  "vscode": {
   "interpreter": {
    "hash": "f52ef770f83c874c23b0fea02cb1cfd9f7179f7089ec1916e46ea761666e8eb7"
   }
  }
 },
 "nbformat": 4,
 "nbformat_minor": 2
}
